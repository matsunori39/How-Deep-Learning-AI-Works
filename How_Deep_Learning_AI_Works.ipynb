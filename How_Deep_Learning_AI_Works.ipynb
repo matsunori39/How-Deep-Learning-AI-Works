{
  "nbformat": 4,
  "nbformat_minor": 0,
  "metadata": {
    "colab": {
      "name": "How Deep Learning AI Works.ipynb",
      "provenance": [],
      "authorship_tag": "ABX9TyMM5ljdinsO016FGiUgWZtf",
      "include_colab_link": true
    },
    "kernelspec": {
      "name": "python3",
      "display_name": "Python 3"
    },
    "language_info": {
      "name": "python"
    }
  },
  "cells": [
    {
      "cell_type": "markdown",
      "metadata": {
        "id": "view-in-github",
        "colab_type": "text"
      },
      "source": [
        "<a href=\"https://colab.research.google.com/github/matsunori39/How-Deep-Learning-AI-Works/blob/main/How_Deep_Learning_AI_Works.ipynb\" target=\"_parent\"><img src=\"https://colab.research.google.com/assets/colab-badge.svg\" alt=\"Open In Colab\"/></a>"
      ]
    },
    {
      "cell_type": "markdown",
      "source": [
        "https://info.nikkeibp.co.jp/media/NSW/atcl/books/111100050/"
      ],
      "metadata": {
        "id": "wkAfqI120lGg"
      }
    },
    {
      "cell_type": "markdown",
      "source": [
        "# Chapter 7: Making Sense of Image Recognition AI Code"
      ],
      "metadata": {
        "id": "YvXTUFyZknIF"
      }
    },
    {
      "cell_type": "markdown",
      "source": [
        "## 7-2 Prepare training and test data"
      ],
      "metadata": {
        "id": "2h8GXJ1VlTzf"
      }
    },
    {
      "cell_type": "markdown",
      "source": [
        "### Import required modules"
      ],
      "metadata": {
        "id": "I8N7mC5Wpre3"
      }
    },
    {
      "cell_type": "code",
      "source": [
        "import torch\n",
        "import torchvision\n",
        "import torchvision.transforms as transforms"
      ],
      "metadata": {
        "id": "zPLxFBMMlf9A"
      },
      "execution_count": 3,
      "outputs": []
    },
    {
      "cell_type": "markdown",
      "source": [
        "### Loading training and test data"
      ],
      "metadata": {
        "id": "4CUWsyHyloyx"
      }
    },
    {
      "cell_type": "code",
      "source": [
        "# image transformation process\n",
        "transform = transforms.Compose(\n",
        "    [transforms.ToTensor(),\n",
        "     transforms.Normalize((0.5, 0.5, 0.5), (0.5, 0.5, 0.5))])\n",
        "\n",
        "# Load training data\n",
        "trainset = torchvision.datasets.CIFAR10(root='./data',\n",
        "                                        train=True,\n",
        "                                        download=True,\n",
        "                                        transform=transform)\n",
        "trainloader = torch.utils.data.DataLoader(trainset,\n",
        "                                          batch_size=4,\n",
        "                                          shuffle=True,\n",
        "                                          num_workers=2)\n",
        "\n",
        "# Load test data\n",
        "testset = torchvision.datasets.CIFAR10(root='./data',\n",
        "                                        train=False,\n",
        "                                        download=True,\n",
        "                                        transform=transform)\n",
        "testloader = torch.utils.data.DataLoader(testset,\n",
        "                                          batch_size=4,\n",
        "                                          shuffle=False,\n",
        "                                          num_workers=2)\n",
        "\n",
        "# Define class label names\n",
        "classes = ('plane', 'car', 'bird', 'cat',\n",
        "           'deer', 'dog', 'frog', 'horse', 'ship', 'truck')"
      ],
      "metadata": {
        "colab": {
          "base_uri": "https://localhost:8080/"
        },
        "id": "cDYbPGv7qH44",
        "outputId": "d919f178-e57c-4678-bc0a-d62b63bb8009"
      },
      "execution_count": 4,
      "outputs": [
        {
          "output_type": "stream",
          "name": "stdout",
          "text": [
            "Files already downloaded and verified\n",
            "Files already downloaded and verified\n"
          ]
        }
      ]
    },
    {
      "cell_type": "code",
      "source": [
        ""
      ],
      "metadata": {
        "id": "PfB9L3ysq2br"
      },
      "execution_count": null,
      "outputs": []
    }
  ]
}